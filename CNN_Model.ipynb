{
  "nbformat": 4,
  "nbformat_minor": 0,
  "metadata": {
    "colab": {
      "provenance": [],
      "include_colab_link": true
    },
    "kernelspec": {
      "name": "python3",
      "display_name": "Python 3"
    },
    "language_info": {
      "name": "python"
    },
    "accelerator": "TPU"
  },
  "cells": [
    {
      "cell_type": "markdown",
      "metadata": {
        "id": "view-in-github",
        "colab_type": "text"
      },
      "source": [
        "<a href=\"https://colab.research.google.com/github/Sikandarh11/CodeClause-Data-Science-Internship-/blob/main/CNN_Model.ipynb\" target=\"_parent\"><img src=\"https://colab.research.google.com/assets/colab-badge.svg\" alt=\"Open In Colab\"/></a>"
      ]
    },
    {
      "cell_type": "code",
      "source": [
        "!mkdir -p ~/.kaggle\n",
        "!cp kaggle.json ~/.kaggle/\n",
        "!kaggle datasets download -d rizwan123456789/potato-disease-leaf-datasetpl\n"
      ],
      "metadata": {
        "colab": {
          "base_uri": "https://localhost:8080/"
        },
        "id": "LppkaR4HeoxV",
        "outputId": "052998d0-b76e-4d62-cfb8-6cfeb2abfc30"
      },
      "execution_count": 2,
      "outputs": [
        {
          "output_type": "stream",
          "name": "stdout",
          "text": [
            "Warning: Your Kaggle API key is readable by other users on this system! To fix this, you can run 'chmod 600 /root/.kaggle/kaggle.json'\n",
            "403 - Forbidden - Permission 'datasets.get' was denied\n"
          ]
        }
      ]
    },
    {
      "cell_type": "code",
      "source": [
        "!chmod 600 /root/.kaggle/kaggle.json"
      ],
      "metadata": {
        "id": "TTO9SaEweyN2"
      },
      "execution_count": 4,
      "outputs": []
    },
    {
      "cell_type": "code",
      "source": [
        "import zipfile\n",
        "zip_ref = zipfile.ZipFile('/content/potato-disease-leaf-datasetpld.zip', 'r')\n",
        "zip_ref.extractall('/content')\n",
        "zip_ref.close()\n",
        "\n",
        "import tensorflow as tf\n",
        "from tensorflow import keras\n",
        "from keras.layers import Dense, Conv2D, MaxPooling2D, Flatten, BatchNormalization, Dropout\n",
        "from tensorflow.keras.optimizers import Adam\n",
        "from keras.preprocessing.image import ImageDataGenerator\n",
        "\n",
        "# Path to dataset directory\n",
        "train_dir = '/content/PLD_3_Classes_256/Training'\n",
        "validation_dir = '/content/PLD_3_Classes_256/Testing'\n",
        "\n",
        "# Define data augmentation parameters\n",
        "data_augmentation = ImageDataGenerator(\n",
        "    rescale=1./255,\n",
        "    rotation_range=10,\n",
        "    width_shift_range=0.1,\n",
        "    height_shift_range=0.1,\n",
        "    shear_range=0.1,\n",
        "    zoom_range=0.1,\n",
        "    horizontal_flip=True,\n",
        "    fill_mode='nearest'\n",
        ")\n",
        "\n",
        "# Load training dataset with data augmentation and preprocessing\n",
        "train_ds_augmented = data_augmentation.flow_from_directory(\n",
        "    directory=train_dir,\n",
        "    target_size=(256, 256),\n",
        "    batch_size=8,\n",
        "    class_mode='categorical'\n",
        ")\n",
        "\n",
        "# Load validation dataset\n",
        "validation_ds_aug = data_augmentation.flow_from_directory(\n",
        "    directory=validation_dir,\n",
        "    target_size=(256, 256),\n",
        "    batch_size=8,\n",
        "    class_mode='categorical'\n",
        ")\n",
        "\n",
        "# Define a simpler model architecture\n",
        "model = keras.Sequential([\n",
        "    Conv2D(64, kernel_size=(3, 3), padding='same', activation='relu', input_shape=(256, 256, 3)),\n",
        "    BatchNormalization(),\n",
        "    MaxPooling2D(pool_size=(2, 2), strides=2, padding='same'),\n",
        "    Conv2D(32, kernel_size=(3, 3), padding='same', activation='relu'),\n",
        "    BatchNormalization(),\n",
        "    MaxPooling2D(pool_size=(2, 2), strides=2, padding='same'),\n",
        "    Conv2D(16, kernel_size=(3, 3), padding='same', activation='relu'),\n",
        "    BatchNormalization(),\n",
        "    MaxPooling2D(pool_size=(2, 2), strides=2, padding='same'),\n",
        "    Flatten(),\n",
        "    Dense(32, activation='relu'),\n",
        "    BatchNormalization(),\n",
        "    Dropout(0.2),\n",
        "    Dense(3, activation='softmax')\n",
        "])\n",
        "\n",
        "# Compile the model with a smaller learning rate\n",
        "model.compile(optimizer=Adam(learning_rate=0.0001), loss=\"categorical_crossentropy\", metrics=['accuracy'])\n",
        "\n",
        "# Train the model\n",
        "history = model.fit(\n",
        "    train_ds_augmented,\n",
        "    steps_per_epoch=train_ds_augmented.samples // 8,\n",
        "    validation_data=validation_ds_aug,\n",
        "    validation_steps=validation_ds_aug.samples // 8,\n",
        "    epochs=10\n",
        ")\n"
      ],
      "metadata": {
        "colab": {
          "base_uri": "https://localhost:8080/"
        },
        "id": "dY7O8j_6g9hP",
        "outputId": "6afdcfdc-f086-46b7-e642-55e6a09a3c33"
      },
      "execution_count": 10,
      "outputs": [
        {
          "output_type": "stream",
          "name": "stdout",
          "text": [
            "Found 3251 images belonging to 3 classes.\n",
            "Found 405 images belonging to 3 classes.\n",
            "Epoch 1/10\n",
            "406/406 [==============================] - 747s 2s/step - loss: 0.9998 - accuracy: 0.5597 - val_loss: 1.6906 - val_accuracy: 0.2575\n",
            "Epoch 2/10\n",
            "406/406 [==============================] - 744s 2s/step - loss: 0.8464 - accuracy: 0.6405 - val_loss: 0.6966 - val_accuracy: 0.7125\n",
            "Epoch 3/10\n",
            "406/406 [==============================] - 741s 2s/step - loss: 0.7592 - accuracy: 0.6809 - val_loss: 0.6420 - val_accuracy: 0.7375\n",
            "Epoch 4/10\n",
            "406/406 [==============================] - 729s 2s/step - loss: 0.6830 - accuracy: 0.7145 - val_loss: 0.5799 - val_accuracy: 0.7575\n",
            "Epoch 5/10\n",
            "406/406 [==============================] - 745s 2s/step - loss: 0.6640 - accuracy: 0.7274 - val_loss: 0.6435 - val_accuracy: 0.7200\n",
            "Epoch 6/10\n",
            "406/406 [==============================] - 745s 2s/step - loss: 0.6168 - accuracy: 0.7478 - val_loss: 0.5526 - val_accuracy: 0.7800\n",
            "Epoch 7/10\n",
            "406/406 [==============================] - 743s 2s/step - loss: 0.6130 - accuracy: 0.7468 - val_loss: 0.6352 - val_accuracy: 0.7625\n",
            "Epoch 8/10\n",
            "406/406 [==============================] - 742s 2s/step - loss: 0.5757 - accuracy: 0.7764 - val_loss: 0.5482 - val_accuracy: 0.7800\n",
            "Epoch 9/10\n",
            "406/406 [==============================] - 749s 2s/step - loss: 0.5540 - accuracy: 0.7922 - val_loss: 0.6663 - val_accuracy: 0.7175\n",
            "Epoch 10/10\n",
            "406/406 [==============================] - 727s 2s/step - loss: 0.5439 - accuracy: 0.7795 - val_loss: 0.4477 - val_accuracy: 0.8500\n"
          ]
        }
      ]
    },
    {
      "cell_type": "code",
      "source": [
        "# Save the model\n",
        "model.save(\"cnn_model_optimized.h5\")"
      ],
      "metadata": {
        "id": "m3QSOuGM6yf6"
      },
      "execution_count": 12,
      "outputs": []
    }
  ]
}